{
 "cells": [
  {
   "cell_type": "markdown",
   "metadata": {},
   "source": [
    "# Search and Rescue!"
   ]
  },
  {
   "cell_type": "markdown",
   "metadata": {},
   "source": [
    "A ship is stranded at sea! We don't know the ship's position (i.e., we don't know $\\alpha$ and $\\beta$) because their radio broke before they could tell us. Luckily, they can send out pulses of light. They don't know where they are, so they just send out the pulses in random directions, uniformly distributed in $\\theta$. We have observers along the shore, who receive pulses at locations $\\{ x_1, x_2, \\dots, x_n \\}$.\n",
    "\n",
    "<div>\n",
    "<img src=\"boat.png\" width=\"400\">\n",
    "</div>\n",
    "\n",
    "Given this data, what can we infer about the ship's position? And how does our knowledge improve as we get more data?"
   ]
  },
  {
   "cell_type": "markdown",
   "metadata": {},
   "source": [
    "__Simulation__: In this notebook, we simulate the data needed to answer this question."
   ]
  },
  {
   "cell_type": "code",
   "execution_count": 23,
   "metadata": {},
   "outputs": [],
   "source": [
    "import numpy as np"
   ]
  },
  {
   "cell_type": "code",
   "execution_count": 35,
   "metadata": {},
   "outputs": [],
   "source": [
    "alpha_true = 65 # km\n",
    "beta_true = 120 # km"
   ]
  },
  {
   "cell_type": "code",
   "execution_count": 36,
   "metadata": {},
   "outputs": [],
   "source": [
    "num_pulses = 100\n",
    "# Simulate random thetas uniformly between -pi/2 and pi/2\n",
    "theta_samples = np.random.uniform(low=-np.pi/2, high=np.pi/2, size=num_pulses)"
   ]
  },
  {
   "cell_type": "code",
   "execution_count": 37,
   "metadata": {},
   "outputs": [],
   "source": [
    "x_samples = alpha_true + beta_true * np.tan(theta_samples)"
   ]
  },
  {
   "cell_type": "code",
   "execution_count": 38,
   "metadata": {},
   "outputs": [],
   "source": [
    "np.savetxt('search_and_rescue.dat', x_samples)"
   ]
  },
  {
   "cell_type": "code",
   "execution_count": null,
   "metadata": {},
   "outputs": [],
   "source": []
  }
 ],
 "metadata": {
  "kernelspec": {
   "display_name": "Python 3",
   "language": "python",
   "name": "python3"
  },
  "language_info": {
   "codemirror_mode": {
    "name": "ipython",
    "version": 3
   },
   "file_extension": ".py",
   "mimetype": "text/x-python",
   "name": "python",
   "nbconvert_exporter": "python",
   "pygments_lexer": "ipython3",
   "version": "3.8.3"
  }
 },
 "nbformat": 4,
 "nbformat_minor": 4
}
